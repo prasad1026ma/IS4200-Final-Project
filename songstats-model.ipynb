{
 "cells": [
  {
   "cell_type": "code",
   "execution_count": 3,
   "metadata": {},
   "outputs": [
    {
     "name": "stdout",
     "output_type": "stream",
     "text": [
      "Scores calculated and saved to 'songstats_with_log_scores.csv'.\n"
     ]
    }
   ],
   "source": [
    "import pandas as pd\n",
    "import numpy as np\n",
    "\n",
    "df = pd.read_csv(\"songstats_data_included_final.csv\")\n",
    "\n",
    "# Define the scoring function\n",
    "def calculate_popularity_scores_with_log(df):\n",
    "    # Define weights for each column\n",
    "    weights = {\n",
    "        \"streams_total\": 0.4,          # High weight\n",
    "        \"popularity_current\": 0.4,    # High weight\n",
    "        \"charts_current\": 0.1,        # Moderate weight\n",
    "        \"charts_total\": 0.1,          # Moderate weight\n",
    "        \"playlists_current\": 0.03,    # Low weight\n",
    "        \"playlists_total\": 0.03,      # Low weight\n",
    "        \"playlists_editorial_current\": 0.01,  # Very low weight\n",
    "        \"playlists_editorial_total\": 0.01,    # Very low weight\n",
    "        \"playlist_reach_current\": 0.02,       # Very low weight\n",
    "        \"playlist_reach_total\": 0.02,         # Very low weight\n",
    "    }\n",
    "    \n",
    "    # Initialize new columns with default values\n",
    "    df[\"raw_popularity_score\"] = 0\n",
    "    df[\"normalized_popularity_score\"] = 0\n",
    "    \n",
    "    # Iterate through the rows to calculate raw scores\n",
    "    for index, row in df.iterrows():\n",
    "        if pd.isna(row[\"streams_total\"]):  # Handle songs with no data\n",
    "            df.at[index, \"raw_popularity_score\"] = 0\n",
    "        else:\n",
    "            # Calculate the weighted logarithmic sum\n",
    "            score = sum(\n",
    "                weights[col] * np.log1p(row[col])  # log1p(x) = log(1 + x), avoids log(0) issues\n",
    "                for col in weights if col in row and not pd.isna(row[col]) and row[col] > 0\n",
    "            )\n",
    "            df.at[index, \"raw_popularity_score\"] = score\n",
    "    \n",
    "    # Normalize the scores using logarithmic scaling\n",
    "    max_score = df[\"raw_popularity_score\"].max()\n",
    "    if max_score > 0:\n",
    "        df[\"normalized_popularity_score\"] = np.log1p(df[\"raw_popularity_score\"]) / np.log1p(max_score)\n",
    "    else:\n",
    "        df[\"normalized_popularity_score\"] = 0  # Avoid division by zero\n",
    "    \n",
    "    return df\n",
    "\n",
    "# Example usage with your dataset\n",
    "df = calculate_popularity_scores_with_log(df)\n",
    "\n",
    "# Save to a new CSV for inspection\n",
    "df.to_csv(\"songstats_with_log_scores.csv\", index=False)\n",
    "print(\"Scores calculated and saved to 'songstats_with_log_scores.csv'.\")"
   ]
  }
 ],
 "metadata": {
  "kernelspec": {
   "display_name": "Python 3",
   "language": "python",
   "name": "python3"
  },
  "language_info": {
   "codemirror_mode": {
    "name": "ipython",
    "version": 3
   },
   "file_extension": ".py",
   "mimetype": "text/x-python",
   "name": "python",
   "nbconvert_exporter": "python",
   "pygments_lexer": "ipython3",
   "version": "3.8.10"
  }
 },
 "nbformat": 4,
 "nbformat_minor": 2
}
